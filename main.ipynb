{
 "cells": [
  {
   "cell_type": "code",
   "execution_count": 339,
   "metadata": {},
   "outputs": [],
   "source": [
    "from tqdm.notebook import tqdm\n",
    "from collections import defaultdict\n",
    "from queue import PriorityQueue\n",
    "import bitstring\n",
    "import json\n",
    "import matplotlib.pyplot as plt\n",
    "import math\n",
    "import random"
   ]
  },
  {
   "cell_type": "code",
   "execution_count": 342,
   "metadata": {},
   "outputs": [],
   "source": [
    "class HuffmanNode:\n",
    "\n",
    "   def __init__(self, name, value, bit=None, parent=None):\n",
    "      self.name = name\n",
    "      self.value = value\n",
    "      self.parent = parent\n",
    "      self.bit = bit\n",
    "\n",
    "   def __lt__(self, obj):\n",
    "      return self.value < obj.value\n",
    "\n",
    "   def __str__(self):\n",
    "      parent_val = \"None\" if self.parent is None else self.parent.name\n",
    "      return f\"Name: {self.name}, Value: {self.value}, Bit: {self.bit}, Parent: {parent_val}\"\n",
    "\n",
    "class Huffman:\n",
    "\n",
    "   def __init__(self):\n",
    "      pass\n",
    "\n",
    "   def encode(self, message):\n",
    "      assert type(message)==bytes, \"Message should be Byte-String\"\n",
    "      pq = PriorityQueue()\n",
    "      counts = defaultdict(int)\n",
    "      base_nodes = {}\n",
    "      for byte in message:\n",
    "         counts[byte] += 1\n",
    "      for name, value in counts.items():\n",
    "         huffman_node = HuffmanNode(name, value)\n",
    "         pq.put(huffman_node)\n",
    "         base_nodes[name] = huffman_node\n",
    "      while pq.qsize() > 1:\n",
    "         left_node = pq.get()\n",
    "         right_node = pq.get()\n",
    "         left_node.bit, right_node.bit = \"0\", \"1\"\n",
    "         internal_node = HuffmanNode(f\"( {left_node.name}, {right_node.name} )\",\n",
    "                                    left_node.value+right_node.value)\n",
    "         left_node.parent, right_node.parent = internal_node, internal_node\n",
    "         pq.put(internal_node)\n",
    "      translation, reverse_translation = dict(), dict()\n",
    "      for name, node in base_nodes.items():\n",
    "         translate = \"\"\n",
    "         curr_node = node\n",
    "         while curr_node.bit is not None:\n",
    "            translate = curr_node.bit + translate\n",
    "            curr_node = curr_node.parent\n",
    "         translation[name] = translate\n",
    "         reverse_translation[translate] = name\n",
    "      print(\"Encoding Message...\")\n",
    "      encoded = \"\".join(translation[byte] for byte in tqdm(message))\n",
    "      extra = len(encoded)%8\n",
    "      encoded += \"0\"*extra\n",
    "      reverse_translation_encode = bytes(json.dumps(reverse_translation), 'utf-8')\n",
    "      preamble = \"{0:03b}\".format(extra) + \"{0:013b}\".format(len(reverse_translation_encode))\n",
    "      preamble = bitstring.BitArray(bin=preamble).tobytes()\n",
    "      encoded = bitstring.BitArray(bin=encoded).tobytes()\n",
    "      encoded = preamble + reverse_translation_encode + encoded\n",
    "      return encoded\n",
    "\n",
    "   def decode(self, encoded):\n",
    "      try:\n",
    "         binary = \"\"\n",
    "         for byte in encoded:\n",
    "            binary += \"{0:08b}\".format(byte)\n",
    "         extra = int(binary[:3], 2)\n",
    "         reverse_len = int(binary[3:16], 2)\n",
    "         reverse_translation = json.loads(encoded[2:2+reverse_len].decode('utf-8'))\n",
    "         message = binary[(2+reverse_len)*8:len(binary)-extra]\n",
    "\n",
    "         i = 0\n",
    "         decoded = \"\"\n",
    "         max_len = max(len(key) for key in reverse_translation)\n",
    "         print(\"Decoding the message...\")\n",
    "         pb = tqdm(total=len(message))\n",
    "         while i < len(message):\n",
    "            collect = \"\"\n",
    "            while i < len(message) and collect not in reverse_translation:\n",
    "               collect += message[i]\n",
    "               assert len(collect)<=max_len\n",
    "               pb.update(1)\n",
    "               i += 1\n",
    "            if collect in reverse_translation:\n",
    "               byte = reverse_translation[collect]\n",
    "               byte = \"{0:08b}\".format(byte)\n",
    "               decoded += byte\n",
    "         assert len(decoded)%8 == 0\n",
    "         decoded = bitstring.BitArray(bin=decoded).tobytes()\n",
    "         return decoded\n",
    "      except:\n",
    "         print(\"Encoding Scheme Does not Match!!\")\n",
    "         return b\"\""
   ]
  },
  {
   "cell_type": "code",
   "execution_count": 347,
   "metadata": {},
   "outputs": [
    {
     "name": "stdout",
     "output_type": "stream",
     "text": [
      "Encoding Message...\n"
     ]
    },
    {
     "data": {
      "application/vnd.jupyter.widget-view+json": {
       "model_id": "485fc930080a4559b9e4c61d7b1c0522",
       "version_major": 2,
       "version_minor": 0
      },
      "text/plain": [
       "  0%|          | 0/125805 [00:00<?, ?it/s]"
      ]
     },
     "metadata": {},
     "output_type": "display_data"
    },
    {
     "name": "stdout",
     "output_type": "stream",
     "text": [
      "Decoding the message...\n"
     ]
    },
    {
     "data": {
      "application/vnd.jupyter.widget-view+json": {
       "model_id": "45d8398174b64fbd8b97b6a1f1997547",
       "version_major": 2,
       "version_minor": 0
      },
      "text/plain": [
       "  0%|          | 0/581525 [00:00<?, ?it/s]"
      ]
     },
     "metadata": {},
     "output_type": "display_data"
    },
    {
     "data": {
      "text/plain": [
       "40.992806327252495"
      ]
     },
     "execution_count": 347,
     "metadata": {},
     "output_type": "execute_result"
    }
   ],
   "source": [
    "filename = \"ProfileSm.tin\"\n",
    "with open(filename, \"rb\") as f:\n",
    "   raw = f.read()\n",
    "\n",
    "huffman = Huffman()\n",
    "encoded = huffman.encode(raw)\n",
    "with open(filename+\".hf\", \"wb\") as f:\n",
    "   f.write(encoded)\n",
    "\n",
    "assert raw == huffman.decode(encoded)\n",
    "compression_ratio = 100*(1-len(encoded)/len(raw))\n",
    "compression_ratio"
   ]
  },
  {
   "cell_type": "code",
   "execution_count": null,
   "metadata": {},
   "outputs": [],
   "source": []
  }
 ],
 "metadata": {
  "kernelspec": {
   "display_name": ".env",
   "language": "python",
   "name": "python3"
  },
  "language_info": {
   "codemirror_mode": {
    "name": "ipython",
    "version": 3
   },
   "file_extension": ".py",
   "mimetype": "text/x-python",
   "name": "python",
   "nbconvert_exporter": "python",
   "pygments_lexer": "ipython3",
   "version": "3.9.6"
  }
 },
 "nbformat": 4,
 "nbformat_minor": 2
}
