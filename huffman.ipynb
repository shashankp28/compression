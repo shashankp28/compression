{
 "cells": [
  {
   "cell_type": "code",
   "execution_count": 339,
   "metadata": {},
   "outputs": [],
   "source": [
    "from tqdm.notebook import tqdm\n",
    "from collections import defaultdict\n",
    "from queue import PriorityQueue\n",
    "import bitstring\n",
    "import json\n",
    "import matplotlib.pyplot as plt\n",
    "import math\n",
    "import random"
   ]
  },
  {
   "cell_type": "code",
   "execution_count": 493,
   "metadata": {},
   "outputs": [],
   "source": [
    "class HuffmanNode:\n",
    "\n",
    "   def __init__(self, name, value, bit=None, parent=None):\n",
    "      self.name = name\n",
    "      self.value = value\n",
    "      self.parent = parent\n",
    "      self.bit = bit\n",
    "\n",
    "   def __lt__(self, obj):\n",
    "      return self.value < obj.value\n",
    "\n",
    "   def __str__(self):\n",
    "      parent_val = \"None\" if self.parent is None else self.parent.name\n",
    "      return f\"Name: {self.name}, Value: {self.value}, Bit: {self.bit}, Parent: {parent_val}\"\n",
    "\n",
    "class Huffman:\n",
    "\n",
    "   def __init__(self):\n",
    "      pass\n",
    "\n",
    "   def encode_translation_table(self, translation_table):\n",
    "      encode = \"\"\n",
    "      for key, value in translation_table.items():\n",
    "         encode += \"{0:08b}\".format(len(key))\n",
    "         encode += key\n",
    "         encode += \"{0:08b}\".format(value)\n",
    "      return bitstring.BitArray(bin=encode).tobytes()\n",
    "\n",
    "   def decode_translation_table(self, translation_table):\n",
    "      binary = \"\"\n",
    "      for byte in translation_table:\n",
    "         binary += \"{0:08b}\".format(byte)\n",
    "      reverse_translation_table = {}\n",
    "      i = 0\n",
    "      while i < len(binary):\n",
    "         if i+8 > len(binary):\n",
    "            break\n",
    "         key_size = int(binary[i:i+8], 2)\n",
    "         if i+16+key_size > len(binary):\n",
    "            break\n",
    "         key = binary[i+8:i+8+key_size]\n",
    "         value = int(binary[i+8+key_size:i+16+key_size], 2)\n",
    "         reverse_translation_table[key] = value\n",
    "         i += 16+key_size\n",
    "      return reverse_translation_table\n",
    "\n",
    "   def encode(self, message):\n",
    "      assert type(message)==bytes, \"Message should be Byte-String\"\n",
    "      pq = PriorityQueue()\n",
    "      counts = defaultdict(int)\n",
    "      base_nodes = {}\n",
    "      for byte in message:\n",
    "         counts[byte] += 1\n",
    "      for name, value in counts.items():\n",
    "         huffman_node = HuffmanNode(name, value)\n",
    "         pq.put(huffman_node)\n",
    "         base_nodes[name] = huffman_node\n",
    "      while pq.qsize() > 1:\n",
    "         left_node = pq.get()\n",
    "         right_node = pq.get()\n",
    "         left_node.bit, right_node.bit = \"0\", \"1\"\n",
    "         internal_node = HuffmanNode(f\"( {left_node.name}, {right_node.name} )\",\n",
    "                                    left_node.value+right_node.value)\n",
    "         left_node.parent, right_node.parent = internal_node, internal_node\n",
    "         pq.put(internal_node)\n",
    "      translation, reverse_translation = dict(), dict()\n",
    "      for name, node in base_nodes.items():\n",
    "         translate = \"\"\n",
    "         curr_node = node\n",
    "         while curr_node.bit is not None:\n",
    "            translate = curr_node.bit + translate\n",
    "            curr_node = curr_node.parent\n",
    "         translation[name] = translate\n",
    "         reverse_translation[translate] = name\n",
    "      print(\"Encoding Message...\")\n",
    "      encoded = \"\".join(translation[byte] for byte in tqdm(message))\n",
    "      extra = 0\n",
    "      if len(encoded)%8!=0:\n",
    "         extra = 8 - len(encoded)%8\n",
    "      encoded += \"0\"*extra\n",
    "      reverse_translation_encode = self.encode_translation_table(reverse_translation)\n",
    "      preamble = \"{0:03b}\".format(extra) + \"{0:013b}\".format(len(reverse_translation_encode))\n",
    "      preamble = bitstring.BitArray(bin=preamble).tobytes()\n",
    "      encoded = bitstring.BitArray(bin=encoded).tobytes()\n",
    "      encoded = preamble + reverse_translation_encode + encoded\n",
    "      return encoded\n",
    "\n",
    "   def decode(self, encoded):\n",
    "      # try:\n",
    "      binary = \"\"\n",
    "      for byte in encoded:\n",
    "         binary += \"{0:08b}\".format(byte)\n",
    "      extra = int(binary[:3], 2)\n",
    "      reverse_len = int(binary[3:16], 2)\n",
    "      reverse_translation = self.decode_translation_table(encoded[2:2+reverse_len])\n",
    "      message = binary[(2+reverse_len)*8:len(binary)-extra]\n",
    "      i = 0\n",
    "      decoded = \"\"\n",
    "      max_len = max(len(key) for key in reverse_translation)\n",
    "      print(\"Decoding the message...\")\n",
    "      pb = tqdm(total=len(message))\n",
    "      while i < len(message):\n",
    "         collect = \"\"\n",
    "         while i < len(message) and collect not in reverse_translation:\n",
    "            collect += message[i]\n",
    "            assert len(collect)<=max_len\n",
    "            pb.update(1)\n",
    "            i += 1\n",
    "         if collect in reverse_translation:\n",
    "            byte = reverse_translation[collect]\n",
    "            byte = \"{0:08b}\".format(byte)\n",
    "            decoded += byte\n",
    "      assert len(decoded)%8 == 0\n",
    "      decoded = bitstring.BitArray(bin=decoded).tobytes()\n",
    "      return decoded\n",
    "      # except Exception as e:\n",
    "      #    print(f\"Encoding Scheme Does not Match!! {e}\")\n",
    "      #    return b\"\""
   ]
  },
  {
   "cell_type": "code",
   "execution_count": 498,
   "metadata": {},
   "outputs": [
    {
     "name": "stdout",
     "output_type": "stream",
     "text": [
      "Encoding Message...\n"
     ]
    },
    {
     "data": {
      "application/vnd.jupyter.widget-view+json": {
       "model_id": "214c40a4d4a94900a597c1154d5ed8a9",
       "version_major": 2,
       "version_minor": 0
      },
      "text/plain": [
       "  0%|          | 0/125805 [00:00<?, ?it/s]"
      ]
     },
     "metadata": {},
     "output_type": "display_data"
    },
    {
     "name": "stdout",
     "output_type": "stream",
     "text": [
      "Decoding the message...\n"
     ]
    },
    {
     "data": {
      "application/vnd.jupyter.widget-view+json": {
       "model_id": "e35cb789a3474a71b45331629691a776",
       "version_major": 2,
       "version_minor": 0
      },
      "text/plain": [
       "  0%|          | 0/581523 [00:00<?, ?it/s]"
      ]
     },
     "metadata": {},
     "output_type": "display_data"
    },
    {
     "data": {
      "text/plain": [
       "41.995946107070466"
      ]
     },
     "execution_count": 498,
     "metadata": {},
     "output_type": "execute_result"
    }
   ],
   "source": [
    "filename = \"./ProfileSm.tin\"\n",
    "with open(filename, \"rb\") as f:\n",
    "   raw = f.read()\n",
    "\n",
    "huffman = Huffman()\n",
    "encoded = huffman.encode(raw)\n",
    "with open(filename+\".hf\", \"wb\") as f:\n",
    "   f.write(encoded)\n",
    "\n",
    "assert raw == huffman.decode(encoded), \"Original and Decoded message Do Not Match!\"\n",
    "compression_ratio = 100*(1-len(encoded)/len(raw))\n",
    "compression_ratio"
   ]
  },
  {
   "cell_type": "code",
   "execution_count": null,
   "metadata": {},
   "outputs": [],
   "source": []
  }
 ],
 "metadata": {
  "kernelspec": {
   "display_name": ".env",
   "language": "python",
   "name": "python3"
  },
  "language_info": {
   "codemirror_mode": {
    "name": "ipython",
    "version": 3
   },
   "file_extension": ".py",
   "mimetype": "text/x-python",
   "name": "python",
   "nbconvert_exporter": "python",
   "pygments_lexer": "ipython3",
   "version": "3.9.6"
  }
 },
 "nbformat": 4,
 "nbformat_minor": 2
}
