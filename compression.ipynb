{
 "cells": [
  {
   "cell_type": "code",
   "execution_count": 2,
   "metadata": {},
   "outputs": [],
   "source": [
    "from tqdm.notebook import tqdm\n",
    "from collections import defaultdict\n",
    "from queue import PriorityQueue\n",
    "import bitstring\n",
    "import matplotlib.pyplot as plt\n",
    "import math\n",
    "import random"
   ]
  },
  {
   "cell_type": "code",
   "execution_count": 3,
   "metadata": {},
   "outputs": [],
   "source": [
    "class HuffmanNode:\n",
    "\n",
    "   def __init__(self, name, value, bit=None, parent=None):\n",
    "      self.name = name\n",
    "      self.value = value\n",
    "      self.parent = parent\n",
    "      self.bit = bit\n",
    "\n",
    "   def __lt__(self, obj):\n",
    "      return self.value < obj.value\n",
    "\n",
    "   def __str__(self):\n",
    "      parent_val = \"None\" if self.parent is None else self.parent.name\n",
    "      return f\"Name: {self.name}, Value: {self.value}, Bit: {self.bit}, Parent: {parent_val}\"\n",
    "\n",
    "class Huffman:\n",
    "\n",
    "   def __init__(self):\n",
    "      pass\n",
    "\n",
    "   def encode_translation_table(self, translation_table):\n",
    "      encode = \"\"\n",
    "      for key, value in translation_table.items():\n",
    "         encode += \"{0:08b}\".format(len(key))\n",
    "         encode += key\n",
    "         encode += \"{0:08b}\".format(value)\n",
    "      return bitstring.BitArray(bin=encode).tobytes()\n",
    "\n",
    "   def decode_translation_table(self, translation_table):\n",
    "      binary = \"\"\n",
    "      for byte in translation_table:\n",
    "         binary += \"{0:08b}\".format(byte)\n",
    "      reverse_translation_table = {}\n",
    "      i = 0\n",
    "      while i < len(binary):\n",
    "         if i+8 > len(binary):\n",
    "            break\n",
    "         key_size = int(binary[i:i+8], 2)\n",
    "         if i+16+key_size > len(binary):\n",
    "            break\n",
    "         key = binary[i+8:i+8+key_size]\n",
    "         value = int(binary[i+8+key_size:i+16+key_size], 2)\n",
    "         reverse_translation_table[key] = value\n",
    "         i += 16+key_size\n",
    "      return reverse_translation_table\n",
    "\n",
    "   def encode(self, message):\n",
    "      assert type(message)==bytes, \"Message should be Byte-String\"\n",
    "      pq = PriorityQueue()\n",
    "      counts = defaultdict(int)\n",
    "      base_nodes = {}\n",
    "      for byte in message:\n",
    "         counts[byte] += 1\n",
    "      for name, value in counts.items():\n",
    "         huffman_node = HuffmanNode(name, value)\n",
    "         pq.put(huffman_node)\n",
    "         base_nodes[name] = huffman_node\n",
    "      while pq.qsize() > 1:\n",
    "         left_node = pq.get()\n",
    "         right_node = pq.get()\n",
    "         left_node.bit, right_node.bit = \"0\", \"1\"\n",
    "         internal_node = HuffmanNode(f\"( {left_node.name}, {right_node.name} )\",\n",
    "                                    left_node.value+right_node.value)\n",
    "         left_node.parent, right_node.parent = internal_node, internal_node\n",
    "         pq.put(internal_node)\n",
    "      translation, reverse_translation = dict(), dict()\n",
    "      for name, node in base_nodes.items():\n",
    "         translate = \"\"\n",
    "         curr_node = node\n",
    "         while curr_node.bit is not None:\n",
    "            translate = curr_node.bit + translate\n",
    "            curr_node = curr_node.parent\n",
    "         translation[name] = translate\n",
    "         reverse_translation[translate] = name\n",
    "      print(\"Encoding Message...\")\n",
    "      encoded = \"\".join(translation[byte] for byte in tqdm(message))\n",
    "      extra = 0\n",
    "      if len(encoded)%8!=0:\n",
    "         extra = 8 - len(encoded)%8\n",
    "      encoded += \"0\"*extra\n",
    "      reverse_translation_encode = self.encode_translation_table(reverse_translation)\n",
    "      preamble = \"{0:03b}\".format(extra) + \"{0:013b}\".format(len(reverse_translation_encode))\n",
    "      preamble = bitstring.BitArray(bin=preamble).tobytes()\n",
    "      encoded = bitstring.BitArray(bin=encoded).tobytes()\n",
    "      encoded = preamble + reverse_translation_encode + encoded\n",
    "      return encoded\n",
    "\n",
    "   def decode(self, encoded):\n",
    "      try:\n",
    "         binary = \"\"\n",
    "         for byte in encoded:\n",
    "            binary += \"{0:08b}\".format(byte)\n",
    "         extra = int(binary[:3], 2)\n",
    "         reverse_len = int(binary[3:16], 2)\n",
    "         reverse_translation = self.decode_translation_table(encoded[2:2+reverse_len])\n",
    "         message = binary[(2+reverse_len)*8:len(binary)-extra]\n",
    "         i = 0\n",
    "         decoded = \"\"\n",
    "         max_len = max(len(key) for key in reverse_translation)\n",
    "         print(\"Decoding the message...\")\n",
    "         pb = tqdm(total=len(message))\n",
    "         while i < len(message):\n",
    "            collect = \"\"\n",
    "            while i < len(message) and collect not in reverse_translation:\n",
    "               collect += message[i]\n",
    "               assert len(collect)<=max_len\n",
    "               pb.update(1)\n",
    "               i += 1\n",
    "            if collect in reverse_translation:\n",
    "               byte = reverse_translation[collect]\n",
    "               byte = \"{0:08b}\".format(byte)\n",
    "               decoded += byte\n",
    "         assert len(decoded)%8 == 0\n",
    "         decoded = bitstring.BitArray(bin=decoded).tobytes()\n",
    "         return decoded\n",
    "      except Exception as e:\n",
    "         print(f\"Encoding Scheme Does not Match!! {e}\")\n",
    "         return b\"\"\n",
    "\n",
    "   def multi_encode(self, message, N=1):\n",
    "      assert N > 0, \"Atleast one Encode Step...\"\n",
    "      new_message = message\n",
    "      for _ in range(N):\n",
    "         new_message = self.encode(new_message)\n",
    "      return new_message\n",
    "\n",
    "   def multi_decode(self, encoded, N=1):\n",
    "      assert N > 0, \"Atleast one Encode Step...\"\n",
    "      new_message = encoded\n",
    "      for _ in range(N):\n",
    "         new_message = self.decode(new_message)\n",
    "      return new_message"
   ]
  },
  {
   "cell_type": "code",
   "execution_count": 4,
   "metadata": {},
   "outputs": [
    {
     "name": "stdout",
     "output_type": "stream",
     "text": [
      "Encoding Message...\n"
     ]
    },
    {
     "data": {
      "application/vnd.jupyter.widget-view+json": {
       "model_id": "551e19b8d979439984f273678fba9f54",
       "version_major": 2,
       "version_minor": 0
      },
      "text/plain": [
       "  0%|          | 0/125805 [00:00<?, ?it/s]"
      ]
     },
     "metadata": {},
     "output_type": "display_data"
    },
    {
     "name": "stdout",
     "output_type": "stream",
     "text": [
      "Encoding Message...\n"
     ]
    },
    {
     "data": {
      "application/vnd.jupyter.widget-view+json": {
       "model_id": "01f0c971313e4bbf875e531a5f09a6f3",
       "version_major": 2,
       "version_minor": 0
      },
      "text/plain": [
       "  0%|          | 0/72972 [00:00<?, ?it/s]"
      ]
     },
     "metadata": {},
     "output_type": "display_data"
    },
    {
     "name": "stdout",
     "output_type": "stream",
     "text": [
      "Decoding the message...\n"
     ]
    },
    {
     "data": {
      "application/vnd.jupyter.widget-view+json": {
       "model_id": "fc451ea577d04ed69632f411289a5ed5",
       "version_major": 2,
       "version_minor": 0
      },
      "text/plain": [
       "  0%|          | 0/564714 [00:00<?, ?it/s]"
      ]
     },
     "metadata": {},
     "output_type": "display_data"
    },
    {
     "name": "stdout",
     "output_type": "stream",
     "text": [
      "Decoding the message...\n"
     ]
    },
    {
     "data": {
      "application/vnd.jupyter.widget-view+json": {
       "model_id": "86dc774574ba4606ba8eb8e4bc17558b",
       "version_major": 2,
       "version_minor": 0
      },
      "text/plain": [
       "  0%|          | 0/581523 [00:00<?, ?it/s]"
      ]
     },
     "metadata": {},
     "output_type": "display_data"
    },
    {
     "data": {
      "text/plain": [
       "43.2701402964906"
      ]
     },
     "execution_count": 4,
     "metadata": {},
     "output_type": "execute_result"
    }
   ],
   "source": [
    "filename = \"./ProfileSm.tin\"\n",
    "with open(filename, \"rb\") as f:\n",
    "   raw = f.read()\n",
    "\n",
    "huffman = Huffman()\n",
    "encoding_steps = 2\n",
    "encoded = huffman.multi_encode(raw, encoding_steps)\n",
    "with open(filename+\".hf\", \"wb\") as f:\n",
    "   f.write(encoded)\n",
    "\n",
    "assert raw == huffman.multi_decode(encoded, encoding_steps), \"Original and Decoded message Do Not Match!\"\n",
    "compression_ratio = 100*(1-len(encoded)/len(raw))\n",
    "compression_ratio"
   ]
  },
  {
   "cell_type": "code",
   "execution_count": 9,
   "metadata": {},
   "outputs": [
    {
     "data": {
      "text/plain": [
       "15418"
      ]
     },
     "execution_count": 9,
     "metadata": {},
     "output_type": "execute_result"
    }
   ],
   "source": [
    "filename = \"./compression.ipynb\"\n",
    "with open(filename, \"rb\") as f:\n",
    "   raw = f.read()\n",
    "len(raw)"
   ]
  },
  {
   "cell_type": "code",
   "execution_count": 10,
   "metadata": {},
   "outputs": [],
   "source": [
    "def encode(message, pattern, index, freq):\n",
    "   pl = len(pattern)\n",
    "   preamble = \"{0:04b}\".format(pl)\n",
    "   preamble += \"\".join(\"{0:08b}\".format(x) for x in pattern)\n",
    "   IL = round(math.log(index+1, 2)) + 1\n",
    "   preamble += \"{0:06b}\".format(IL)\n",
    "   preamble += (\"{0:0\"+f\"{IL}\"+\"b}\").format(index)\n",
    "   extra = (8-(len(preamble))%8)%8\n",
    "   preamble += (\"{0:0\"+f\"{16+extra}\"+\"b}\").format(freq)\n",
    "   length = len(preamble)\n",
    "   preamble = \"{0:08b}\".format(length) + preamble\n",
    "   assert len(preamble)%8==0, \"Length is not multiple of 8\"\n",
    "   preamble = bitstring.BitArray(bin=preamble).tobytes()\n",
    "   encoded = preamble + message[:index] + message[index+pl*freq:]\n",
    "   return encoded, len(preamble)\n",
    "\n",
    "def decode(message):\n",
    "   preamble = \"\"\n",
    "   for i, byte in enumerate(message):\n",
    "      if i > 30:\n",
    "         break\n",
    "      preamble += \"{0:08b}\".format(byte)\n",
    "   l, h = 0, 8\n",
    "   length = int(preamble[l:h], 2)\n",
    "   message = message[(8+length)//8:]\n",
    "   preamble = preamble[8:8+length]\n",
    "   l, h = 0, 4\n",
    "   pl = int(preamble[l:h], 2)\n",
    "   l, h = h, h+pl*8\n",
    "   pattern = preamble[l:h]\n",
    "   assert len(pattern)%8==0, \"Encoding Scheme Does not match!\"\n",
    "   pattern = bitstring.BitArray(bin=pattern).tobytes()\n",
    "   l, h = h, h+6\n",
    "   il = int(preamble[l:h], 2)\n",
    "   l, h = h, h+il\n",
    "   index = int(preamble[l:h], 2)\n",
    "   l = h\n",
    "   freq = int(preamble[l:], 2)\n",
    "   partial = pattern*freq\n",
    "   decoded = message[:index] + partial + message[index:]\n",
    "   return decoded"
   ]
  },
  {
   "cell_type": "code",
   "execution_count": 11,
   "metadata": {},
   "outputs": [],
   "source": [
    "def get_repeating_sub(message, length):\n",
    "   final_repeating_seq = []\n",
    "   for i in range(length):\n",
    "      repeating_sub = []\n",
    "      start = i\n",
    "      while start+length < len(message):\n",
    "         sub = message[start:start+length]\n",
    "         curr, collect = start, b''\n",
    "         while sub == message[start:start+length]:\n",
    "            collect += message[start:start+length]\n",
    "            start += length\n",
    "         if len(collect) > length:\n",
    "            times = len(collect)//length\n",
    "            IL = round(math.log(curr+1, 2)) + 1\n",
    "            if length*times - ( 8 + 4 + length*8 + 6 + IL + 16 )//8 <= 0:\n",
    "               continue\n",
    "            repeating_sub.append((collect[:length], curr, times))\n",
    "      if len(repeating_sub) > len(final_repeating_seq):\n",
    "         final_repeating_seq = repeating_sub\n",
    "   return final_repeating_seq"
   ]
  },
  {
   "cell_type": "code",
   "execution_count": 12,
   "metadata": {},
   "outputs": [
    {
     "name": "stdout",
     "output_type": "stream",
     "text": [
      "Encoding Message...\n"
     ]
    },
    {
     "data": {
      "application/vnd.jupyter.widget-view+json": {
       "model_id": "99d0533a8e584ad7a97a73afbdebd76d",
       "version_major": 2,
       "version_minor": 0
      },
      "text/plain": [
       "  0%|          | 0/15418 [00:00<?, ?it/s]"
      ]
     },
     "metadata": {},
     "output_type": "display_data"
    },
    {
     "data": {
      "application/vnd.jupyter.widget-view+json": {
       "model_id": "807a57b44f974160832c51c3af9396c7",
       "version_major": 2,
       "version_minor": 0
      },
      "text/plain": [
       "  0%|          | 0/30 [00:00<?, ?it/s]"
      ]
     },
     "metadata": {},
     "output_type": "display_data"
    },
    {
     "name": "stdout",
     "output_type": "stream",
     "text": [
      "Encoding Message...\n"
     ]
    },
    {
     "data": {
      "application/vnd.jupyter.widget-view+json": {
       "model_id": "b1eb377ffdfd489991a9de054b83b55c",
       "version_major": 2,
       "version_minor": 0
      },
      "text/plain": [
       "  0%|          | 0/9051 [00:00<?, ?it/s]"
      ]
     },
     "metadata": {},
     "output_type": "display_data"
    },
    {
     "name": "stdout",
     "output_type": "stream",
     "text": [
      "37.56648073680115\n"
     ]
    }
   ],
   "source": [
    "encoded_message = huffman.encode(raw)\n",
    "\n",
    "for i in tqdm(range(30)):\n",
    "   length, shift = i//3 + 1, 0\n",
    "   repeating_sub = get_repeating_sub(encoded_message, length)\n",
    "   for i, (pattern, index, freq) in enumerate(repeating_sub):\n",
    "      encoded_message_temp, preamble_len = encode(encoded_message, pattern, index-shift, freq)\n",
    "      assert decode(encoded_message_temp) == encoded_message, f\"At Iteration: {i}\"\n",
    "      encoded_message = encoded_message_temp\n",
    "      shift += len(pattern)*freq - preamble_len\n",
    "\n",
    "encoded_message = huffman.encode(encoded_message)\n",
    "\n",
    "print(100*(1 - len(encoded_message)/len(raw)))\n",
    "\n",
    "\n",
    "with open(filename+\".rep\", \"wb\") as f:\n",
    "   f.write(encoded_message)"
   ]
  },
  {
   "cell_type": "code",
   "execution_count": null,
   "metadata": {},
   "outputs": [],
   "source": []
  }
 ],
 "metadata": {
  "kernelspec": {
   "display_name": ".env",
   "language": "python",
   "name": "python3"
  },
  "language_info": {
   "codemirror_mode": {
    "name": "ipython",
    "version": 3
   },
   "file_extension": ".py",
   "mimetype": "text/x-python",
   "name": "python",
   "nbconvert_exporter": "python",
   "pygments_lexer": "ipython3",
   "version": "3.9.6"
  }
 },
 "nbformat": 4,
 "nbformat_minor": 2
}
